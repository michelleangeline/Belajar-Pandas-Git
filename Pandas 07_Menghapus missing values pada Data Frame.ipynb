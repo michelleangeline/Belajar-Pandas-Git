{
 "cells": [
  {
   "cell_type": "markdown",
   "id": "923c6b7f",
   "metadata": {},
   "source": [
    "### Import modules"
   ]
  },
  {
   "cell_type": "code",
   "execution_count": 8,
   "id": "659a6130",
   "metadata": {},
   "outputs": [
    {
     "name": "stdout",
     "output_type": "stream",
     "text": [
      "1.3.4\n"
     ]
    }
   ],
   "source": [
    "import pandas as pd \n",
    "\n",
    "print(pd.__version__)"
   ]
  },
  {
   "cell_type": "markdown",
   "id": "5ecbf782",
   "metadata": {},
   "source": [
    "### Persiapan Data Frame"
   ]
  },
  {
   "cell_type": "code",
   "execution_count": 9,
   "id": "cf53db21",
   "metadata": {},
   "outputs": [
    {
     "data": {
      "text/html": [
       "<div>\n",
       "<style scoped>\n",
       "    .dataframe tbody tr th:only-of-type {\n",
       "        vertical-align: middle;\n",
       "    }\n",
       "\n",
       "    .dataframe tbody tr th {\n",
       "        vertical-align: top;\n",
       "    }\n",
       "\n",
       "    .dataframe thead th {\n",
       "        text-align: right;\n",
       "    }\n",
       "</style>\n",
       "<table border=\"1\" class=\"dataframe\">\n",
       "  <thead>\n",
       "    <tr style=\"text-align: right;\">\n",
       "      <th></th>\n",
       "      <th>index</th>\n",
       "      <th>A</th>\n",
       "      <th>B</th>\n",
       "      <th>C</th>\n",
       "      <th>D</th>\n",
       "    </tr>\n",
       "  </thead>\n",
       "  <tbody>\n",
       "    <tr>\n",
       "      <th>0</th>\n",
       "      <td>mheL6Eolni</td>\n",
       "      <td>NaN</td>\n",
       "      <td>-1.697703</td>\n",
       "      <td>NaN</td>\n",
       "      <td>0.918522</td>\n",
       "    </tr>\n",
       "    <tr>\n",
       "      <th>1</th>\n",
       "      <td>lM5ks2G3Kw</td>\n",
       "      <td>-0.779724</td>\n",
       "      <td>NaN</td>\n",
       "      <td>0.406334</td>\n",
       "      <td>-0.208588</td>\n",
       "    </tr>\n",
       "    <tr>\n",
       "      <th>2</th>\n",
       "      <td>rnVrJLkHtX</td>\n",
       "      <td>1.787397</td>\n",
       "      <td>-0.184316</td>\n",
       "      <td>-0.026780</td>\n",
       "      <td>0.158837</td>\n",
       "    </tr>\n",
       "    <tr>\n",
       "      <th>3</th>\n",
       "      <td>eu2fz87TzM</td>\n",
       "      <td>0.938359</td>\n",
       "      <td>-0.512916</td>\n",
       "      <td>NaN</td>\n",
       "      <td>0.816385</td>\n",
       "    </tr>\n",
       "    <tr>\n",
       "      <th>4</th>\n",
       "      <td>MDQyVtjACk</td>\n",
       "      <td>-0.227410</td>\n",
       "      <td>-0.180415</td>\n",
       "      <td>-0.221832</td>\n",
       "      <td>-2.286975</td>\n",
       "    </tr>\n",
       "  </tbody>\n",
       "</table>\n",
       "</div>"
      ],
      "text/plain": [
       "        index         A         B         C         D\n",
       "0  mheL6Eolni       NaN -1.697703       NaN  0.918522\n",
       "1  lM5ks2G3Kw -0.779724       NaN  0.406334 -0.208588\n",
       "2  rnVrJLkHtX  1.787397 -0.184316 -0.026780  0.158837\n",
       "3  eu2fz87TzM  0.938359 -0.512916       NaN  0.816385\n",
       "4  MDQyVtjACk -0.227410 -0.180415 -0.221832 -2.286975"
      ]
     },
     "execution_count": 9,
     "metadata": {},
     "output_type": "execute_result"
    }
   ],
   "source": [
    "df = pd.util.testing.makeMissingDataframe().reset_index()\n",
    "df.head()"
   ]
  },
  {
   "cell_type": "code",
   "execution_count": 10,
   "id": "2796f1c5",
   "metadata": {},
   "outputs": [
    {
     "data": {
      "text/html": [
       "<div>\n",
       "<style scoped>\n",
       "    .dataframe tbody tr th:only-of-type {\n",
       "        vertical-align: middle;\n",
       "    }\n",
       "\n",
       "    .dataframe tbody tr th {\n",
       "        vertical-align: top;\n",
       "    }\n",
       "\n",
       "    .dataframe thead th {\n",
       "        text-align: right;\n",
       "    }\n",
       "</style>\n",
       "<table border=\"1\" class=\"dataframe\">\n",
       "  <thead>\n",
       "    <tr style=\"text-align: right;\">\n",
       "      <th></th>\n",
       "      <th>Z</th>\n",
       "      <th>A</th>\n",
       "      <th>B</th>\n",
       "      <th>C</th>\n",
       "      <th>D</th>\n",
       "    </tr>\n",
       "  </thead>\n",
       "  <tbody>\n",
       "    <tr>\n",
       "      <th>0</th>\n",
       "      <td>mheL6Eolni</td>\n",
       "      <td>NaN</td>\n",
       "      <td>-1.697703</td>\n",
       "      <td>NaN</td>\n",
       "      <td>0.918522</td>\n",
       "    </tr>\n",
       "    <tr>\n",
       "      <th>1</th>\n",
       "      <td>lM5ks2G3Kw</td>\n",
       "      <td>-0.779724</td>\n",
       "      <td>NaN</td>\n",
       "      <td>0.406334</td>\n",
       "      <td>-0.208588</td>\n",
       "    </tr>\n",
       "    <tr>\n",
       "      <th>2</th>\n",
       "      <td>rnVrJLkHtX</td>\n",
       "      <td>1.787397</td>\n",
       "      <td>-0.184316</td>\n",
       "      <td>-0.026780</td>\n",
       "      <td>0.158837</td>\n",
       "    </tr>\n",
       "    <tr>\n",
       "      <th>3</th>\n",
       "      <td>eu2fz87TzM</td>\n",
       "      <td>0.938359</td>\n",
       "      <td>-0.512916</td>\n",
       "      <td>NaN</td>\n",
       "      <td>0.816385</td>\n",
       "    </tr>\n",
       "    <tr>\n",
       "      <th>4</th>\n",
       "      <td>MDQyVtjACk</td>\n",
       "      <td>-0.227410</td>\n",
       "      <td>-0.180415</td>\n",
       "      <td>-0.221832</td>\n",
       "      <td>-2.286975</td>\n",
       "    </tr>\n",
       "  </tbody>\n",
       "</table>\n",
       "</div>"
      ],
      "text/plain": [
       "            Z         A         B         C         D\n",
       "0  mheL6Eolni       NaN -1.697703       NaN  0.918522\n",
       "1  lM5ks2G3Kw -0.779724       NaN  0.406334 -0.208588\n",
       "2  rnVrJLkHtX  1.787397 -0.184316 -0.026780  0.158837\n",
       "3  eu2fz87TzM  0.938359 -0.512916       NaN  0.816385\n",
       "4  MDQyVtjACk -0.227410 -0.180415 -0.221832 -2.286975"
      ]
     },
     "execution_count": 10,
     "metadata": {},
     "output_type": "execute_result"
    }
   ],
   "source": [
    "df = df.rename(columns={'index':'Z'})\n",
    "df.head()"
   ]
  },
  {
   "cell_type": "code",
   "execution_count": 11,
   "id": "8462104b",
   "metadata": {},
   "outputs": [],
   "source": [
    "df_backup = df.copy(deep=True)"
   ]
  },
  {
   "cell_type": "markdown",
   "id": "a3a6dbe5",
   "metadata": {},
   "source": [
    "### Menghapus (drop) setiap kolom yang mengandung missing values"
   ]
  },
  {
   "cell_type": "code",
   "execution_count": 12,
   "id": "c37f3b30",
   "metadata": {},
   "outputs": [
    {
     "data": {
      "text/html": [
       "<div>\n",
       "<style scoped>\n",
       "    .dataframe tbody tr th:only-of-type {\n",
       "        vertical-align: middle;\n",
       "    }\n",
       "\n",
       "    .dataframe tbody tr th {\n",
       "        vertical-align: top;\n",
       "    }\n",
       "\n",
       "    .dataframe thead th {\n",
       "        text-align: right;\n",
       "    }\n",
       "</style>\n",
       "<table border=\"1\" class=\"dataframe\">\n",
       "  <thead>\n",
       "    <tr style=\"text-align: right;\">\n",
       "      <th></th>\n",
       "      <th>Z</th>\n",
       "    </tr>\n",
       "  </thead>\n",
       "  <tbody>\n",
       "    <tr>\n",
       "      <th>0</th>\n",
       "      <td>mheL6Eolni</td>\n",
       "    </tr>\n",
       "    <tr>\n",
       "      <th>1</th>\n",
       "      <td>lM5ks2G3Kw</td>\n",
       "    </tr>\n",
       "    <tr>\n",
       "      <th>2</th>\n",
       "      <td>rnVrJLkHtX</td>\n",
       "    </tr>\n",
       "    <tr>\n",
       "      <th>3</th>\n",
       "      <td>eu2fz87TzM</td>\n",
       "    </tr>\n",
       "    <tr>\n",
       "      <th>4</th>\n",
       "      <td>MDQyVtjACk</td>\n",
       "    </tr>\n",
       "  </tbody>\n",
       "</table>\n",
       "</div>"
      ],
      "text/plain": [
       "            Z\n",
       "0  mheL6Eolni\n",
       "1  lM5ks2G3Kw\n",
       "2  rnVrJLkHtX\n",
       "3  eu2fz87TzM\n",
       "4  MDQyVtjACk"
      ]
     },
     "execution_count": 12,
     "metadata": {},
     "output_type": "execute_result"
    }
   ],
   "source": [
    "df = df.dropna(axis='columns')\n",
    "df.head()"
   ]
  },
  {
   "cell_type": "markdown",
   "id": "d4bc2046",
   "metadata": {},
   "source": [
    "### Menghapus (drop) setiap baris yang mengandung missing values"
   ]
  },
  {
   "cell_type": "code",
   "execution_count": 13,
   "id": "e6b822bf",
   "metadata": {},
   "outputs": [
    {
     "data": {
      "text/html": [
       "<div>\n",
       "<style scoped>\n",
       "    .dataframe tbody tr th:only-of-type {\n",
       "        vertical-align: middle;\n",
       "    }\n",
       "\n",
       "    .dataframe tbody tr th {\n",
       "        vertical-align: top;\n",
       "    }\n",
       "\n",
       "    .dataframe thead th {\n",
       "        text-align: right;\n",
       "    }\n",
       "</style>\n",
       "<table border=\"1\" class=\"dataframe\">\n",
       "  <thead>\n",
       "    <tr style=\"text-align: right;\">\n",
       "      <th></th>\n",
       "      <th>Z</th>\n",
       "      <th>A</th>\n",
       "      <th>B</th>\n",
       "      <th>C</th>\n",
       "      <th>D</th>\n",
       "    </tr>\n",
       "  </thead>\n",
       "  <tbody>\n",
       "    <tr>\n",
       "      <th>2</th>\n",
       "      <td>rnVrJLkHtX</td>\n",
       "      <td>1.787397</td>\n",
       "      <td>-0.184316</td>\n",
       "      <td>-0.026780</td>\n",
       "      <td>0.158837</td>\n",
       "    </tr>\n",
       "    <tr>\n",
       "      <th>4</th>\n",
       "      <td>MDQyVtjACk</td>\n",
       "      <td>-0.227410</td>\n",
       "      <td>-0.180415</td>\n",
       "      <td>-0.221832</td>\n",
       "      <td>-2.286975</td>\n",
       "    </tr>\n",
       "    <tr>\n",
       "      <th>5</th>\n",
       "      <td>g750Mi85Sw</td>\n",
       "      <td>1.055736</td>\n",
       "      <td>1.610371</td>\n",
       "      <td>0.567230</td>\n",
       "      <td>0.722722</td>\n",
       "    </tr>\n",
       "    <tr>\n",
       "      <th>8</th>\n",
       "      <td>49rqV3KkDL</td>\n",
       "      <td>0.737252</td>\n",
       "      <td>-0.644173</td>\n",
       "      <td>1.137406</td>\n",
       "      <td>-1.415763</td>\n",
       "    </tr>\n",
       "    <tr>\n",
       "      <th>9</th>\n",
       "      <td>yo1Z3T2cjA</td>\n",
       "      <td>0.866429</td>\n",
       "      <td>-0.170488</td>\n",
       "      <td>0.724394</td>\n",
       "      <td>0.792889</td>\n",
       "    </tr>\n",
       "  </tbody>\n",
       "</table>\n",
       "</div>"
      ],
      "text/plain": [
       "            Z         A         B         C         D\n",
       "2  rnVrJLkHtX  1.787397 -0.184316 -0.026780  0.158837\n",
       "4  MDQyVtjACk -0.227410 -0.180415 -0.221832 -2.286975\n",
       "5  g750Mi85Sw  1.055736  1.610371  0.567230  0.722722\n",
       "8  49rqV3KkDL  0.737252 -0.644173  1.137406 -1.415763\n",
       "9  yo1Z3T2cjA  0.866429 -0.170488  0.724394  0.792889"
      ]
     },
     "execution_count": 13,
     "metadata": {},
     "output_type": "execute_result"
    }
   ],
   "source": [
    "df = df_backup.copy(deep=True)\n",
    "df = df.dropna(axis='rows')\n",
    "df.head()"
   ]
  },
  {
   "cell_type": "markdown",
   "id": "b796a303",
   "metadata": {},
   "source": [
    "### Persentase missing values untuk tiap kolom"
   ]
  },
  {
   "cell_type": "code",
   "execution_count": 14,
   "id": "426fb9c1",
   "metadata": {},
   "outputs": [
    {
     "data": {
      "text/plain": [
       "Z    0.000000\n",
       "A    0.100000\n",
       "B    0.133333\n",
       "C    0.133333\n",
       "D    0.033333\n",
       "dtype: float64"
      ]
     },
     "execution_count": 14,
     "metadata": {},
     "output_type": "execute_result"
    }
   ],
   "source": [
    "df = df_backup.copy(deep=True)\n",
    "df.isna().mean()"
   ]
  },
  {
   "cell_type": "markdown",
   "id": "edca6959",
   "metadata": {},
   "source": [
    " ### Menghapus (drop) setiap kolom yang mengandung missing values berdasarkan threshold"
   ]
  },
  {
   "cell_type": "code",
   "execution_count": 15,
   "id": "0d8c0076",
   "metadata": {},
   "outputs": [
    {
     "data": {
      "text/html": [
       "<div>\n",
       "<style scoped>\n",
       "    .dataframe tbody tr th:only-of-type {\n",
       "        vertical-align: middle;\n",
       "    }\n",
       "\n",
       "    .dataframe tbody tr th {\n",
       "        vertical-align: top;\n",
       "    }\n",
       "\n",
       "    .dataframe thead th {\n",
       "        text-align: right;\n",
       "    }\n",
       "</style>\n",
       "<table border=\"1\" class=\"dataframe\">\n",
       "  <thead>\n",
       "    <tr style=\"text-align: right;\">\n",
       "      <th></th>\n",
       "      <th>Z</th>\n",
       "      <th>A</th>\n",
       "      <th>D</th>\n",
       "    </tr>\n",
       "  </thead>\n",
       "  <tbody>\n",
       "    <tr>\n",
       "      <th>0</th>\n",
       "      <td>mheL6Eolni</td>\n",
       "      <td>NaN</td>\n",
       "      <td>0.918522</td>\n",
       "    </tr>\n",
       "    <tr>\n",
       "      <th>1</th>\n",
       "      <td>lM5ks2G3Kw</td>\n",
       "      <td>-0.779724</td>\n",
       "      <td>-0.208588</td>\n",
       "    </tr>\n",
       "    <tr>\n",
       "      <th>2</th>\n",
       "      <td>rnVrJLkHtX</td>\n",
       "      <td>1.787397</td>\n",
       "      <td>0.158837</td>\n",
       "    </tr>\n",
       "    <tr>\n",
       "      <th>3</th>\n",
       "      <td>eu2fz87TzM</td>\n",
       "      <td>0.938359</td>\n",
       "      <td>0.816385</td>\n",
       "    </tr>\n",
       "    <tr>\n",
       "      <th>4</th>\n",
       "      <td>MDQyVtjACk</td>\n",
       "      <td>-0.227410</td>\n",
       "      <td>-2.286975</td>\n",
       "    </tr>\n",
       "  </tbody>\n",
       "</table>\n",
       "</div>"
      ],
      "text/plain": [
       "            Z         A         D\n",
       "0  mheL6Eolni       NaN  0.918522\n",
       "1  lM5ks2G3Kw -0.779724 -0.208588\n",
       "2  rnVrJLkHtX  1.787397  0.158837\n",
       "3  eu2fz87TzM  0.938359  0.816385\n",
       "4  MDQyVtjACk -0.227410 -2.286975"
      ]
     },
     "execution_count": 15,
     "metadata": {},
     "output_type": "execute_result"
    }
   ],
   "source": [
    "treshold = len(df) * 0.9\n",
    "df = df.dropna(thresh=treshold,axis=\"columns\")\n",
    "df.head()"
   ]
  },
  {
   "cell_type": "code",
   "execution_count": null,
   "id": "bef60c1a",
   "metadata": {},
   "outputs": [],
   "source": []
  }
 ],
 "metadata": {
  "kernelspec": {
   "display_name": "Python 3 (ipykernel)",
   "language": "python",
   "name": "python3"
  },
  "language_info": {
   "codemirror_mode": {
    "name": "ipython",
    "version": 3
   },
   "file_extension": ".py",
   "mimetype": "text/x-python",
   "name": "python",
   "nbconvert_exporter": "python",
   "pygments_lexer": "ipython3",
   "version": "3.9.7"
  }
 },
 "nbformat": 4,
 "nbformat_minor": 5
}
