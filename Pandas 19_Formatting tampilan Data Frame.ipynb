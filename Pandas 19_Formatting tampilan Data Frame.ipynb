{
 "cells": [
  {
   "cell_type": "markdown",
   "id": "5db1aad4",
   "metadata": {},
   "source": [
    "### Import"
   ]
  },
  {
   "cell_type": "code",
   "execution_count": 1,
   "id": "a2952f7d",
   "metadata": {},
   "outputs": [
    {
     "name": "stdout",
     "output_type": "stream",
     "text": [
      "1.3.4\n",
      "1.20.3\n"
     ]
    }
   ],
   "source": [
    "import pandas as pd\n",
    "import numpy as np \n",
    "\n",
    "print(pd.__version__)\n",
    "print(np.__version__)"
   ]
  },
  {
   "cell_type": "markdown",
   "id": "5f6775dc",
   "metadata": {},
   "source": [
    "### Persiapan data frame"
   ]
  },
  {
   "cell_type": "code",
   "execution_count": 2,
   "id": "9d91caee",
   "metadata": {},
   "outputs": [
    {
     "data": {
      "text/html": [
       "<div>\n",
       "<style scoped>\n",
       "    .dataframe tbody tr th:only-of-type {\n",
       "        vertical-align: middle;\n",
       "    }\n",
       "\n",
       "    .dataframe tbody tr th {\n",
       "        vertical-align: top;\n",
       "    }\n",
       "\n",
       "    .dataframe thead th {\n",
       "        text-align: right;\n",
       "    }\n",
       "</style>\n",
       "<table border=\"1\" class=\"dataframe\">\n",
       "  <thead>\n",
       "    <tr style=\"text-align: right;\">\n",
       "      <th></th>\n",
       "      <th>omset</th>\n",
       "      <th>operasional</th>\n",
       "    </tr>\n",
       "  </thead>\n",
       "  <tbody>\n",
       "    <tr>\n",
       "      <th>0</th>\n",
       "      <td>17</td>\n",
       "      <td>19</td>\n",
       "    </tr>\n",
       "    <tr>\n",
       "      <th>1</th>\n",
       "      <td>9</td>\n",
       "      <td>5</td>\n",
       "    </tr>\n",
       "    <tr>\n",
       "      <th>2</th>\n",
       "      <td>19</td>\n",
       "      <td>18</td>\n",
       "    </tr>\n",
       "    <tr>\n",
       "      <th>3</th>\n",
       "      <td>4</td>\n",
       "      <td>4</td>\n",
       "    </tr>\n",
       "    <tr>\n",
       "      <th>4</th>\n",
       "      <td>4</td>\n",
       "      <td>2</td>\n",
       "    </tr>\n",
       "  </tbody>\n",
       "</table>\n",
       "</div>"
      ],
      "text/plain": [
       "   omset  operasional\n",
       "0     17           19\n",
       "1      9            5\n",
       "2     19           18\n",
       "3      4            4\n",
       "4      4            2"
      ]
     },
     "execution_count": 2,
     "metadata": {},
     "output_type": "execute_result"
    }
   ],
   "source": [
    "n_rows = 5\n",
    "n_cols = 2\n",
    "cols = ['omset','operasional']\n",
    "\n",
    "df = pd.DataFrame(np.random.randint(1,20, size=(n_rows,n_cols)),\n",
    "                 columns=cols)\n",
    "df"
   ]
  },
  {
   "cell_type": "code",
   "execution_count": 3,
   "id": "bfc79e7c",
   "metadata": {},
   "outputs": [
    {
     "data": {
      "text/html": [
       "<div>\n",
       "<style scoped>\n",
       "    .dataframe tbody tr th:only-of-type {\n",
       "        vertical-align: middle;\n",
       "    }\n",
       "\n",
       "    .dataframe tbody tr th {\n",
       "        vertical-align: top;\n",
       "    }\n",
       "\n",
       "    .dataframe thead th {\n",
       "        text-align: right;\n",
       "    }\n",
       "</style>\n",
       "<table border=\"1\" class=\"dataframe\">\n",
       "  <thead>\n",
       "    <tr style=\"text-align: right;\">\n",
       "      <th></th>\n",
       "      <th>omset</th>\n",
       "      <th>operasional</th>\n",
       "    </tr>\n",
       "  </thead>\n",
       "  <tbody>\n",
       "    <tr>\n",
       "      <th>0</th>\n",
       "      <td>1700000</td>\n",
       "      <td>190000</td>\n",
       "    </tr>\n",
       "    <tr>\n",
       "      <th>1</th>\n",
       "      <td>900000</td>\n",
       "      <td>50000</td>\n",
       "    </tr>\n",
       "    <tr>\n",
       "      <th>2</th>\n",
       "      <td>1900000</td>\n",
       "      <td>180000</td>\n",
       "    </tr>\n",
       "    <tr>\n",
       "      <th>3</th>\n",
       "      <td>400000</td>\n",
       "      <td>40000</td>\n",
       "    </tr>\n",
       "    <tr>\n",
       "      <th>4</th>\n",
       "      <td>400000</td>\n",
       "      <td>20000</td>\n",
       "    </tr>\n",
       "  </tbody>\n",
       "</table>\n",
       "</div>"
      ],
      "text/plain": [
       "     omset  operasional\n",
       "0  1700000       190000\n",
       "1   900000        50000\n",
       "2  1900000       180000\n",
       "3   400000        40000\n",
       "4   400000        20000"
      ]
     },
     "execution_count": 3,
     "metadata": {},
     "output_type": "execute_result"
    }
   ],
   "source": [
    "df['omset'] = df['omset'] * 100_000\n",
    "df['operasional'] = df['operasional'] * 10_000\n",
    "df"
   ]
  },
  {
   "cell_type": "code",
   "execution_count": 4,
   "id": "fa1aee14",
   "metadata": {},
   "outputs": [
    {
     "name": "stderr",
     "output_type": "stream",
     "text": [
      "C:\\Users\\Michelle\\anaconda3\\lib\\site-packages\\pandas\\util\\__init__.py:15: FutureWarning: pandas.util.testing is deprecated. Use the functions in the public API at pandas.testing instead.\n",
      "  import pandas.util.testing\n"
     ]
    },
    {
     "data": {
      "text/html": [
       "<div>\n",
       "<style scoped>\n",
       "    .dataframe tbody tr th:only-of-type {\n",
       "        vertical-align: middle;\n",
       "    }\n",
       "\n",
       "    .dataframe tbody tr th {\n",
       "        vertical-align: top;\n",
       "    }\n",
       "\n",
       "    .dataframe thead th {\n",
       "        text-align: right;\n",
       "    }\n",
       "</style>\n",
       "<table border=\"1\" class=\"dataframe\">\n",
       "  <thead>\n",
       "    <tr style=\"text-align: right;\">\n",
       "      <th></th>\n",
       "      <th>tanggal</th>\n",
       "      <th>omset</th>\n",
       "      <th>operasional</th>\n",
       "    </tr>\n",
       "  </thead>\n",
       "  <tbody>\n",
       "    <tr>\n",
       "      <th>0</th>\n",
       "      <td>2000-01-01</td>\n",
       "      <td>1700000</td>\n",
       "      <td>190000</td>\n",
       "    </tr>\n",
       "    <tr>\n",
       "      <th>1</th>\n",
       "      <td>2000-01-02</td>\n",
       "      <td>900000</td>\n",
       "      <td>50000</td>\n",
       "    </tr>\n",
       "    <tr>\n",
       "      <th>2</th>\n",
       "      <td>2000-01-03</td>\n",
       "      <td>1900000</td>\n",
       "      <td>180000</td>\n",
       "    </tr>\n",
       "    <tr>\n",
       "      <th>3</th>\n",
       "      <td>2000-01-04</td>\n",
       "      <td>400000</td>\n",
       "      <td>40000</td>\n",
       "    </tr>\n",
       "    <tr>\n",
       "      <th>4</th>\n",
       "      <td>2000-01-05</td>\n",
       "      <td>400000</td>\n",
       "      <td>20000</td>\n",
       "    </tr>\n",
       "  </tbody>\n",
       "</table>\n",
       "</div>"
      ],
      "text/plain": [
       "     tanggal    omset  operasional\n",
       "0 2000-01-01  1700000       190000\n",
       "1 2000-01-02   900000        50000\n",
       "2 2000-01-03  1900000       180000\n",
       "3 2000-01-04   400000        40000\n",
       "4 2000-01-05   400000        20000"
      ]
     },
     "execution_count": 4,
     "metadata": {},
     "output_type": "execute_result"
    }
   ],
   "source": [
    "df.index = pd.util.testing.makeDateIndex(n_rows,freq='D')\n",
    "df = df.reset_index()\n",
    "df = df.rename(columns={'index':'tanggal'})\n",
    "df"
   ]
  },
  {
   "cell_type": "code",
   "execution_count": 5,
   "id": "fe383b2e",
   "metadata": {},
   "outputs": [],
   "source": [
    "## df.index = pd.util.testing.makeDateIndex(n_rows,freq='D') --> D adalah daily"
   ]
  },
  {
   "cell_type": "markdown",
   "id": "a4cfd1f4",
   "metadata": {},
   "source": [
    "### Melakukan formatting tampilan data frame"
   ]
  },
  {
   "cell_type": "code",
   "execution_count": 6,
   "id": "1878396b",
   "metadata": {
    "scrolled": true
   },
   "outputs": [
    {
     "data": {
      "text/html": [
       "<style type=\"text/css\">\n",
       "</style>\n",
       "<table id=\"T_82ace_\">\n",
       "  <thead>\n",
       "    <tr>\n",
       "      <th class=\"blank level0\" >&nbsp;</th>\n",
       "      <th class=\"col_heading level0 col0\" >tanggal</th>\n",
       "      <th class=\"col_heading level0 col1\" >omset</th>\n",
       "      <th class=\"col_heading level0 col2\" >operasional</th>\n",
       "    </tr>\n",
       "  </thead>\n",
       "  <tbody>\n",
       "    <tr>\n",
       "      <th id=\"T_82ace_level0_row0\" class=\"row_heading level0 row0\" >0</th>\n",
       "      <td id=\"T_82ace_row0_col0\" class=\"data row0 col0\" >01/01/00</td>\n",
       "      <td id=\"T_82ace_row0_col1\" class=\"data row0 col1\" >Rp 1700000.00</td>\n",
       "      <td id=\"T_82ace_row0_col2\" class=\"data row0 col2\" >Rp 190000.00</td>\n",
       "    </tr>\n",
       "    <tr>\n",
       "      <th id=\"T_82ace_level0_row1\" class=\"row_heading level0 row1\" >1</th>\n",
       "      <td id=\"T_82ace_row1_col0\" class=\"data row1 col0\" >02/01/00</td>\n",
       "      <td id=\"T_82ace_row1_col1\" class=\"data row1 col1\" >Rp 900000.00</td>\n",
       "      <td id=\"T_82ace_row1_col2\" class=\"data row1 col2\" >Rp 50000.00</td>\n",
       "    </tr>\n",
       "    <tr>\n",
       "      <th id=\"T_82ace_level0_row2\" class=\"row_heading level0 row2\" >2</th>\n",
       "      <td id=\"T_82ace_row2_col0\" class=\"data row2 col0\" >03/01/00</td>\n",
       "      <td id=\"T_82ace_row2_col1\" class=\"data row2 col1\" >Rp 1900000.00</td>\n",
       "      <td id=\"T_82ace_row2_col2\" class=\"data row2 col2\" >Rp 180000.00</td>\n",
       "    </tr>\n",
       "    <tr>\n",
       "      <th id=\"T_82ace_level0_row3\" class=\"row_heading level0 row3\" >3</th>\n",
       "      <td id=\"T_82ace_row3_col0\" class=\"data row3 col0\" >04/01/00</td>\n",
       "      <td id=\"T_82ace_row3_col1\" class=\"data row3 col1\" >Rp 400000.00</td>\n",
       "      <td id=\"T_82ace_row3_col2\" class=\"data row3 col2\" >Rp 40000.00</td>\n",
       "    </tr>\n",
       "    <tr>\n",
       "      <th id=\"T_82ace_level0_row4\" class=\"row_heading level0 row4\" >4</th>\n",
       "      <td id=\"T_82ace_row4_col0\" class=\"data row4 col0\" >05/01/00</td>\n",
       "      <td id=\"T_82ace_row4_col1\" class=\"data row4 col1\" >Rp 400000.00</td>\n",
       "      <td id=\"T_82ace_row4_col2\" class=\"data row4 col2\" >Rp 20000.00</td>\n",
       "    </tr>\n",
       "  </tbody>\n",
       "</table>\n"
      ],
      "text/plain": [
       "<pandas.io.formats.style.Styler at 0x20682b28c70>"
      ]
     },
     "execution_count": 6,
     "metadata": {},
     "output_type": "execute_result"
    }
   ],
   "source": [
    "formatku = {'tanggal':'{:%d/%m/%y}',\n",
    "           'operasional':'Rp {:.2f}',\n",
    "           'omset':'Rp {:.2f}'}\n",
    "\n",
    "laporan = df.style.format(formatku)\n",
    "laporan"
   ]
  },
  {
   "cell_type": "code",
   "execution_count": null,
   "id": "76b99890",
   "metadata": {},
   "outputs": [],
   "source": [
    "## 'operasional':'Rp {:.2f}',\n",
    "## 'omset':'Rp {:.2f}'} --> .2f artinya ada koma dibelakangnya "
   ]
  },
  {
   "cell_type": "code",
   "execution_count": 7,
   "id": "09bdc325",
   "metadata": {},
   "outputs": [
    {
     "data": {
      "text/plain": [
       "pandas.io.formats.style.Styler"
      ]
     },
     "execution_count": 7,
     "metadata": {},
     "output_type": "execute_result"
    }
   ],
   "source": [
    "type(laporan)"
   ]
  },
  {
   "cell_type": "code",
   "execution_count": 8,
   "id": "542c265e",
   "metadata": {},
   "outputs": [
    {
     "data": {
      "text/html": [
       "<style type=\"text/css\">\n",
       "</style>\n",
       "<table id=\"T_82ace_\">\n",
       "  <thead>\n",
       "    <tr>\n",
       "      <th class=\"col_heading level0 col0\" >tanggal</th>\n",
       "      <th class=\"col_heading level0 col1\" >omset</th>\n",
       "      <th class=\"col_heading level0 col2\" >operasional</th>\n",
       "    </tr>\n",
       "  </thead>\n",
       "  <tbody>\n",
       "    <tr>\n",
       "      <td id=\"T_82ace_row0_col0\" class=\"data row0 col0\" >01/01/00</td>\n",
       "      <td id=\"T_82ace_row0_col1\" class=\"data row0 col1\" >Rp 1700000.00</td>\n",
       "      <td id=\"T_82ace_row0_col2\" class=\"data row0 col2\" >Rp 190000.00</td>\n",
       "    </tr>\n",
       "    <tr>\n",
       "      <td id=\"T_82ace_row1_col0\" class=\"data row1 col0\" >02/01/00</td>\n",
       "      <td id=\"T_82ace_row1_col1\" class=\"data row1 col1\" >Rp 900000.00</td>\n",
       "      <td id=\"T_82ace_row1_col2\" class=\"data row1 col2\" >Rp 50000.00</td>\n",
       "    </tr>\n",
       "    <tr>\n",
       "      <td id=\"T_82ace_row2_col0\" class=\"data row2 col0\" >03/01/00</td>\n",
       "      <td id=\"T_82ace_row2_col1\" class=\"data row2 col1\" >Rp 1900000.00</td>\n",
       "      <td id=\"T_82ace_row2_col2\" class=\"data row2 col2\" >Rp 180000.00</td>\n",
       "    </tr>\n",
       "    <tr>\n",
       "      <td id=\"T_82ace_row3_col0\" class=\"data row3 col0\" >04/01/00</td>\n",
       "      <td id=\"T_82ace_row3_col1\" class=\"data row3 col1\" >Rp 400000.00</td>\n",
       "      <td id=\"T_82ace_row3_col2\" class=\"data row3 col2\" >Rp 40000.00</td>\n",
       "    </tr>\n",
       "    <tr>\n",
       "      <td id=\"T_82ace_row4_col0\" class=\"data row4 col0\" >05/01/00</td>\n",
       "      <td id=\"T_82ace_row4_col1\" class=\"data row4 col1\" >Rp 400000.00</td>\n",
       "      <td id=\"T_82ace_row4_col2\" class=\"data row4 col2\" >Rp 20000.00</td>\n",
       "    </tr>\n",
       "  </tbody>\n",
       "</table>\n"
      ],
      "text/plain": [
       "<pandas.io.formats.style.Styler at 0x20682b28c70>"
      ]
     },
     "execution_count": 8,
     "metadata": {},
     "output_type": "execute_result"
    }
   ],
   "source": [
    "laporan.hide_index()"
   ]
  },
  {
   "cell_type": "code",
   "execution_count": 9,
   "id": "c0ef13cb",
   "metadata": {},
   "outputs": [
    {
     "data": {
      "text/html": [
       "<style type=\"text/css\">\n",
       "</style>\n",
       "<table id=\"T_82ace_\">\n",
       "  <caption>Data Omset dan Operasional</caption>\n",
       "  <thead>\n",
       "    <tr>\n",
       "      <th class=\"col_heading level0 col0\" >tanggal</th>\n",
       "      <th class=\"col_heading level0 col1\" >omset</th>\n",
       "      <th class=\"col_heading level0 col2\" >operasional</th>\n",
       "    </tr>\n",
       "  </thead>\n",
       "  <tbody>\n",
       "    <tr>\n",
       "      <td id=\"T_82ace_row0_col0\" class=\"data row0 col0\" >01/01/00</td>\n",
       "      <td id=\"T_82ace_row0_col1\" class=\"data row0 col1\" >Rp 1700000.00</td>\n",
       "      <td id=\"T_82ace_row0_col2\" class=\"data row0 col2\" >Rp 190000.00</td>\n",
       "    </tr>\n",
       "    <tr>\n",
       "      <td id=\"T_82ace_row1_col0\" class=\"data row1 col0\" >02/01/00</td>\n",
       "      <td id=\"T_82ace_row1_col1\" class=\"data row1 col1\" >Rp 900000.00</td>\n",
       "      <td id=\"T_82ace_row1_col2\" class=\"data row1 col2\" >Rp 50000.00</td>\n",
       "    </tr>\n",
       "    <tr>\n",
       "      <td id=\"T_82ace_row2_col0\" class=\"data row2 col0\" >03/01/00</td>\n",
       "      <td id=\"T_82ace_row2_col1\" class=\"data row2 col1\" >Rp 1900000.00</td>\n",
       "      <td id=\"T_82ace_row2_col2\" class=\"data row2 col2\" >Rp 180000.00</td>\n",
       "    </tr>\n",
       "    <tr>\n",
       "      <td id=\"T_82ace_row3_col0\" class=\"data row3 col0\" >04/01/00</td>\n",
       "      <td id=\"T_82ace_row3_col1\" class=\"data row3 col1\" >Rp 400000.00</td>\n",
       "      <td id=\"T_82ace_row3_col2\" class=\"data row3 col2\" >Rp 40000.00</td>\n",
       "    </tr>\n",
       "    <tr>\n",
       "      <td id=\"T_82ace_row4_col0\" class=\"data row4 col0\" >05/01/00</td>\n",
       "      <td id=\"T_82ace_row4_col1\" class=\"data row4 col1\" >Rp 400000.00</td>\n",
       "      <td id=\"T_82ace_row4_col2\" class=\"data row4 col2\" >Rp 20000.00</td>\n",
       "    </tr>\n",
       "  </tbody>\n",
       "</table>\n"
      ],
      "text/plain": [
       "<pandas.io.formats.style.Styler at 0x20682b28c70>"
      ]
     },
     "execution_count": 9,
     "metadata": {},
     "output_type": "execute_result"
    }
   ],
   "source": [
    "laporan.set_caption('Data Omset dan Operasional')"
   ]
  },
  {
   "cell_type": "code",
   "execution_count": 10,
   "id": "4f0a8239",
   "metadata": {},
   "outputs": [
    {
     "data": {
      "text/html": [
       "<style type=\"text/css\">\n",
       "#T_82ace_row0_col2 {\n",
       "  background-color: grey;\n",
       "}\n",
       "#T_82ace_row2_col1 {\n",
       "  background-color: lightgreen;\n",
       "}\n",
       "#T_82ace_row3_col1, #T_82ace_row4_col1 {\n",
       "  background-color: pink;\n",
       "}\n",
       "#T_82ace_row4_col2 {\n",
       "  background-color: lightblue;\n",
       "}\n",
       "</style>\n",
       "<table id=\"T_82ace_\">\n",
       "  <caption>Data Omset dan Operasional</caption>\n",
       "  <thead>\n",
       "    <tr>\n",
       "      <th class=\"col_heading level0 col0\" >tanggal</th>\n",
       "      <th class=\"col_heading level0 col1\" >omset</th>\n",
       "      <th class=\"col_heading level0 col2\" >operasional</th>\n",
       "    </tr>\n",
       "  </thead>\n",
       "  <tbody>\n",
       "    <tr>\n",
       "      <td id=\"T_82ace_row0_col0\" class=\"data row0 col0\" >01/01/00</td>\n",
       "      <td id=\"T_82ace_row0_col1\" class=\"data row0 col1\" >Rp 1700000.00</td>\n",
       "      <td id=\"T_82ace_row0_col2\" class=\"data row0 col2\" >Rp 190000.00</td>\n",
       "    </tr>\n",
       "    <tr>\n",
       "      <td id=\"T_82ace_row1_col0\" class=\"data row1 col0\" >02/01/00</td>\n",
       "      <td id=\"T_82ace_row1_col1\" class=\"data row1 col1\" >Rp 900000.00</td>\n",
       "      <td id=\"T_82ace_row1_col2\" class=\"data row1 col2\" >Rp 50000.00</td>\n",
       "    </tr>\n",
       "    <tr>\n",
       "      <td id=\"T_82ace_row2_col0\" class=\"data row2 col0\" >03/01/00</td>\n",
       "      <td id=\"T_82ace_row2_col1\" class=\"data row2 col1\" >Rp 1900000.00</td>\n",
       "      <td id=\"T_82ace_row2_col2\" class=\"data row2 col2\" >Rp 180000.00</td>\n",
       "    </tr>\n",
       "    <tr>\n",
       "      <td id=\"T_82ace_row3_col0\" class=\"data row3 col0\" >04/01/00</td>\n",
       "      <td id=\"T_82ace_row3_col1\" class=\"data row3 col1\" >Rp 400000.00</td>\n",
       "      <td id=\"T_82ace_row3_col2\" class=\"data row3 col2\" >Rp 40000.00</td>\n",
       "    </tr>\n",
       "    <tr>\n",
       "      <td id=\"T_82ace_row4_col0\" class=\"data row4 col0\" >05/01/00</td>\n",
       "      <td id=\"T_82ace_row4_col1\" class=\"data row4 col1\" >Rp 400000.00</td>\n",
       "      <td id=\"T_82ace_row4_col2\" class=\"data row4 col2\" >Rp 20000.00</td>\n",
       "    </tr>\n",
       "  </tbody>\n",
       "</table>\n"
      ],
      "text/plain": [
       "<pandas.io.formats.style.Styler at 0x20682b28c70>"
      ]
     },
     "execution_count": 10,
     "metadata": {},
     "output_type": "execute_result"
    }
   ],
   "source": [
    "laporan.highlight_min('omset', color='pink')\n",
    "laporan.highlight_max('omset', color='lightgreen')\n",
    "\n",
    "laporan.highlight_min('operasional', color='lightblue')\n",
    "laporan.highlight_max('operasional', color='grey')"
   ]
  }
 ],
 "metadata": {
  "kernelspec": {
   "display_name": "Python 3 (ipykernel)",
   "language": "python",
   "name": "python3"
  },
  "language_info": {
   "codemirror_mode": {
    "name": "ipython",
    "version": 3
   },
   "file_extension": ".py",
   "mimetype": "text/x-python",
   "name": "python",
   "nbconvert_exporter": "python",
   "pygments_lexer": "ipython3",
   "version": "3.9.7"
  }
 },
 "nbformat": 4,
 "nbformat_minor": 5
}
